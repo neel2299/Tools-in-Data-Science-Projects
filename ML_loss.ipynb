{
 "cells": [
  {
   "cell_type": "code",
   "execution_count": 1,
   "id": "0440668a",
   "metadata": {},
   "outputs": [],
   "source": [
    "import numpy as np"
   ]
  },
  {
   "cell_type": "code",
   "execution_count": 23,
   "id": "59292fce",
   "metadata": {},
   "outputs": [],
   "source": [
    "#Dimensionality reduction\n",
    "def loss1(w1, w2, x1, x2):\n",
    "    return sum(((np.array([w1*x1+w2*x2])/2) - np.array([x1, x2]))**2 )\n",
    "def lossall(inp, w1,w2):    #inp of form [[x1,x2],so on]\n",
    "    loss = 0\n",
    "    for i in range(len(inp)):\n",
    "        loss += loss1(w1,w2, inp[i][0], inp[i][1])\n",
    "    return loss/len(inp)\n",
    "    "
   ]
  },
  {
   "cell_type": "code",
   "execution_count": 24,
   "id": "f9b30e36",
   "metadata": {},
   "outputs": [],
   "source": [
    "vect = [[1,0.5],[2,2.3],[3,3.1],[4,3.9]]"
   ]
  },
  {
   "cell_type": "code",
   "execution_count": 28,
   "id": "24e605fd",
   "metadata": {},
   "outputs": [
    {
     "data": {
      "text/plain": [
       "3.8062500000000004"
      ]
     },
     "execution_count": 28,
     "metadata": {},
     "output_type": "execute_result"
    }
   ],
   "source": [
    "lossall(vect, 0.5,0.5)"
   ]
  },
  {
   "cell_type": "code",
   "execution_count": 1,
   "id": "e3a65f01",
   "metadata": {},
   "outputs": [
    {
     "name": "stderr",
     "output_type": "stream",
     "text": [
      "UsageError: Line magic function `%jupyter` not found.\n"
     ]
    }
   ],
   "source": [
    "%jupyter notebook --NotebookApp.allow_origin='https://colab.research.google.com' --NotebookApp.port_retries=0 --notebook-dir=\"\" --no-browser --allow-root --NotebookApp.token='' --NotebookApp.disable_check_xsrf=True --port=8888"
   ]
  },
  {
   "cell_type": "code",
   "execution_count": 9,
   "id": "65074f3b",
   "metadata": {},
   "outputs": [
    {
     "name": "stdout",
     "output_type": "stream",
     "text": [
      "Note: you may need to restart the kernel to use updated packages.\n"
     ]
    },
    {
     "name": "stderr",
     "output_type": "stream",
     "text": [
      "Enabling: jupyter_http_over_ws\n",
      "- Writing config: C:\\Users\\suhaa\\.jupyter\n",
      "    - Validating...\n",
      "      jupyter_http_over_ws 0.0.7 ok\n"
     ]
    }
   ],
   "source": [
    "%pip install --upgrade jupyter_http_over_ws>=0.0.7 && jupyter serverextension enable --py jupyter_http_over_ws"
   ]
  },
  {
   "cell_type": "code",
   "execution_count": null,
   "id": "40639704",
   "metadata": {},
   "outputs": [],
   "source": []
  }
 ],
 "metadata": {
  "kernelspec": {
   "display_name": "Python 3",
   "language": "python",
   "name": "python3"
  },
  "language_info": {
   "codemirror_mode": {
    "name": "ipython",
    "version": 3
   },
   "file_extension": ".py",
   "mimetype": "text/x-python",
   "name": "python",
   "nbconvert_exporter": "python",
   "pygments_lexer": "ipython3",
   "version": "3.8.8"
  }
 },
 "nbformat": 4,
 "nbformat_minor": 5
}
