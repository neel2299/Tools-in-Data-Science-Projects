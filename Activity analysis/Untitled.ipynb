{
 "cells": [
  {
   "cell_type": "code",
   "execution_count": 1,
   "id": "cd65bd77",
   "metadata": {},
   "outputs": [],
   "source": [
    "import json\n"
   ]
  },
  {
   "cell_type": "code",
   "execution_count": 26,
   "id": "b03882ca",
   "metadata": {},
   "outputs": [],
   "source": [
    "with open(\"activity.json\", encoding=\"utf8\") as f:\n",
    "    data = json.load(f)"
   ]
  },
  {
   "cell_type": "code",
   "execution_count": 27,
   "id": "0bb3f18f",
   "metadata": {},
   "outputs": [],
   "source": [
    "maths = []"
   ]
  },
  {
   "cell_type": "code",
   "execution_count": 28,
   "id": "49bc3439",
   "metadata": {},
   "outputs": [
    {
     "data": {
      "text/plain": [
       "{'id': 81479,\n",
       " 'name': 'Mahesh Balan U',\n",
       " 'username': 'maheshbalan',\n",
       " 'avatar_template': '/user_avatar/discourse.onlinedegree.iitm.ac.in/maheshbalan/{size}/13253_2.png',\n",
       " 'created_at': '2022-01-08T08:14:03.486Z',\n",
       " 'cooked': '<p>It is a library that parses text. It looks for html tags and extracts all content in those html tags. For example, a web page titled “Hello World” might be present in html as <code>&lt;h1&gt;&lt;b&gt;&lt;Hello World&lt;/b&gt;&lt;/h1&gt;</code>. Beautiful soup library has a set of predefined html tags to look for (basically keyword search) and it extracts contents with those tags. In this example, it looks for <code>&lt;h1&gt;</code> and knows it is a html tag and looks for the closure <code>&lt;/h1&gt;</code> and extracts all contents between these. You will not get non html content if you use the html parser. It looks only for html content.</p>',\n",
       " 'post_number': 2,\n",
       " 'post_type': 1,\n",
       " 'updated_at': '2022-01-08T08:15:37.965Z',\n",
       " 'reply_count': 0,\n",
       " 'reply_to_post_number': None,\n",
       " 'quote_count': 0,\n",
       " 'incoming_link_count': 1,\n",
       " 'reads': 22,\n",
       " 'readers_count': 21,\n",
       " 'score': 24.4,\n",
       " 'yours': False,\n",
       " 'topic_id': 26945,\n",
       " 'topic_slug': 'beautifulsoup-module',\n",
       " 'display_username': 'Mahesh Balan U',\n",
       " 'primary_group_name': 'course_support',\n",
       " 'flair_name': 'course_support',\n",
       " 'flair_url': 'balance-scale',\n",
       " 'flair_bg_color': '0040ff',\n",
       " 'flair_color': '1affc6',\n",
       " 'version': 1,\n",
       " 'can_edit': False,\n",
       " 'can_delete': False,\n",
       " 'can_recover': False,\n",
       " 'can_wiki': False,\n",
       " 'user_title': 'Course_Team',\n",
       " 'title_is_group': True,\n",
       " 'bookmarked': False,\n",
       " 'actions_summary': [{'id': 2, 'count': 1, 'can_act': True},\n",
       "  {'id': 3, 'can_act': True},\n",
       "  {'id': 4, 'can_act': True},\n",
       "  {'id': 8, 'can_act': True},\n",
       "  {'id': 7, 'can_act': True}],\n",
       " 'moderator': False,\n",
       " 'admin': False,\n",
       " 'staff': False,\n",
       " 'user_id': 6139,\n",
       " 'hidden': False,\n",
       " 'trust_level': 4,\n",
       " 'deleted_at': None,\n",
       " 'user_deleted': False,\n",
       " 'edit_reason': None,\n",
       " 'can_view_edit_history': True,\n",
       " 'wiki': False,\n",
       " 'excerpt': 'It is a library that parses text. It looks for html tags and extracts all content in those html tags. For example, a web page titled “Hello World” might be present in html as &lt;h1&gt;&lt;b&gt;&lt;Hello World&lt;/b&gt;&lt;/h1&gt;. Beautiful soup library has a set of predefined html tags to look for (basically keyword search)&hellip;',\n",
       " 'user_created_at': '2021-08-07T04:14:01.141Z',\n",
       " 'user_date_of_birth': None,\n",
       " 'can_accept_answer': False,\n",
       " 'can_unaccept_answer': False,\n",
       " 'accepted_answer': True}"
      ]
     },
     "execution_count": 28,
     "metadata": {},
     "output_type": "execute_result"
    }
   ],
   "source": [
    "data[5]"
   ]
  },
  {
   "cell_type": "code",
   "execution_count": 31,
   "id": "fc476ef4",
   "metadata": {},
   "outputs": [],
   "source": [
    "dates = []\n",
    "for post in data:\n",
    "    dates.append(post[\"updated_at\"][:10])"
   ]
  },
  {
   "cell_type": "code",
   "execution_count": 32,
   "id": "6d873151",
   "metadata": {},
   "outputs": [
    {
     "data": {
      "text/plain": [
       "['2022-01-21',\n",
       " '2022-01-16',\n",
       " '2022-01-15',\n",
       " '2022-01-13',\n",
       " '2022-01-12',\n",
       " '2022-01-08',\n",
       " '2022-01-08',\n",
       " '2022-01-06',\n",
       " '2022-01-06',\n",
       " '2022-01-06',\n",
       " '2022-01-06',\n",
       " '2022-01-06',\n",
       " '2022-01-05',\n",
       " '2022-01-05',\n",
       " '2022-01-05',\n",
       " '2022-01-05',\n",
       " '2022-01-05',\n",
       " '2022-01-05',\n",
       " '2022-01-05',\n",
       " '2022-01-05',\n",
       " '2022-01-04',\n",
       " '2022-01-04',\n",
       " '2022-01-04',\n",
       " '2022-01-04',\n",
       " '2022-01-04',\n",
       " '2022-01-03',\n",
       " '2022-01-03',\n",
       " '2022-01-03',\n",
       " '2022-01-03',\n",
       " '2022-01-03',\n",
       " '2022-01-03',\n",
       " '2022-01-03',\n",
       " '2022-01-03',\n",
       " '2022-01-03',\n",
       " '2022-01-02',\n",
       " '2022-01-02',\n",
       " '2022-01-02',\n",
       " '2022-01-02',\n",
       " '2021-12-27',\n",
       " '2021-12-23',\n",
       " '2021-12-23',\n",
       " '2021-12-20',\n",
       " '2021-12-20',\n",
       " '2021-12-20',\n",
       " '2021-12-19',\n",
       " '2021-12-19',\n",
       " '2021-12-19',\n",
       " '2021-12-18',\n",
       " '2021-12-18']"
      ]
     },
     "execution_count": 32,
     "metadata": {},
     "output_type": "execute_result"
    }
   ],
   "source": [
    "dates"
   ]
  },
  {
   "cell_type": "code",
   "execution_count": null,
   "id": "f1bbf876",
   "metadata": {},
   "outputs": [],
   "source": []
  }
 ],
 "metadata": {
  "kernelspec": {
   "display_name": "Python 3",
   "language": "python",
   "name": "python3"
  },
  "language_info": {
   "codemirror_mode": {
    "name": "ipython",
    "version": 3
   },
   "file_extension": ".py",
   "mimetype": "text/x-python",
   "name": "python",
   "nbconvert_exporter": "python",
   "pygments_lexer": "ipython3",
   "version": "3.8.8"
  }
 },
 "nbformat": 4,
 "nbformat_minor": 5
}
