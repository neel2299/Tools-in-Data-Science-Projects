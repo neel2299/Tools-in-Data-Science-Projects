{
 "cells": [
  {
   "cell_type": "code",
   "execution_count": 1,
   "id": "d71df9ac",
   "metadata": {},
   "outputs": [],
   "source": [
    "%matplotlib inline\n",
    "\n",
    "import pandas as pd\n",
    "\n",
    "r = pd.read_csv( 'ratings.csv' )\n",
    "tr = pd.read_csv( 'toread.csv' )\n",
    "b = pd.read_csv( 'books.csv' )\n",
    "\n",
    "bt = pd.read_csv( 'book_tags.csv')"
   ]
  },
  {
   "cell_type": "code",
   "execution_count": null,
   "id": "cb4608c4",
   "metadata": {},
   "outputs": [],
   "source": []
  },
  {
   "cell_type": "code",
   "execution_count": null,
   "id": "cdfdbdc0",
   "metadata": {},
   "outputs": [],
   "source": []
  },
  {
   "cell_type": "code",
   "execution_count": null,
   "id": "3a542da0",
   "metadata": {},
   "outputs": [],
   "source": []
  },
  {
   "cell_type": "code",
   "execution_count": null,
   "id": "21331f21",
   "metadata": {},
   "outputs": [],
   "source": []
  },
  {
   "cell_type": "code",
   "execution_count": 6,
   "id": "3b3a636a",
   "metadata": {},
   "outputs": [
    {
     "data": {
      "text/plain": [
       "386"
      ]
     },
     "execution_count": 6,
     "metadata": {},
     "output_type": "execute_result"
    }
   ],
   "source": [
    "len( b.book_id.unique())     #q1"
   ]
  },
  {
   "cell_type": "code",
   "execution_count": null,
   "id": "32146ff6",
   "metadata": {},
   "outputs": [],
   "source": []
  },
  {
   "cell_type": "code",
   "execution_count": 7,
   "id": "d816276d",
   "metadata": {},
   "outputs": [
    {
     "data": {
      "text/plain": [
       "38041"
      ]
     },
     "execution_count": 7,
     "metadata": {},
     "output_type": "execute_result"
    }
   ],
   "source": [
    "len( r.user_id.unique())  #q2"
   ]
  },
  {
   "cell_type": "code",
   "execution_count": 8,
   "id": "50b333a5",
   "metadata": {},
   "outputs": [
    {
     "data": {
      "text/plain": [
       "7"
      ]
     },
     "execution_count": 8,
     "metadata": {},
     "output_type": "execute_result"
    }
   ],
   "source": [
    "b.original_title.isnull().sum()   #q3"
   ]
  },
  {
   "cell_type": "code",
   "execution_count": 9,
   "id": "fd6d63a7",
   "metadata": {},
   "outputs": [
    {
     "data": {
      "text/plain": [
       "'The Road'"
      ]
     },
     "execution_count": 9,
     "metadata": {},
     "output_type": "execute_result"
    }
   ],
   "source": [
    "b.original_title[b.work_ratings_count.idxmax()]   #q4"
   ]
  },
  {
   "cell_type": "code",
   "execution_count": 10,
   "id": "dab4672c",
   "metadata": {},
   "outputs": [],
   "source": [
    "#q5 603 used excel "
   ]
  },
  {
   "cell_type": "code",
   "execution_count": 23,
   "id": "8b48af71",
   "metadata": {},
   "outputs": [
    {
     "data": {
      "text/plain": [
       "book_id                                                                    115\n",
       "best_book_id                                                              2187\n",
       "work_id                                                                1352495\n",
       "books_count                                                                125\n",
       "isbn                                                                 312422156\n",
       "isbn13                                                         9780310000000.0\n",
       "authors                                                      Jeffrey Eugenides\n",
       "original_publication_year                                                 2002\n",
       "original_title                                                       Middlesex\n",
       "title                                                                Middlesex\n",
       "language_code                                                            en-US\n",
       "average_rating                                                            3.98\n",
       "ratings_count                                                           488243\n",
       "work_ratings_count                                                      507998\n",
       "work_text_reviews_count                                                  20880\n",
       "ratings_1                                                                19329\n",
       "ratings_2                                                                30503\n",
       "ratings_3                                                                89740\n",
       "ratings_4                                                               171099\n",
       "ratings_5                                                               197327\n",
       "image_url                    https://images.gr-assets.com/books/1437029776m...\n",
       "small_image_url              https://images.gr-assets.com/books/1437029776s...\n",
       "Name: 2187, dtype: object"
      ]
     },
     "execution_count": 23,
     "metadata": {},
     "output_type": "execute_result"
    }
   ],
   "source": []
  },
  {
   "cell_type": "code",
   "execution_count": 40,
   "id": "0a848761",
   "metadata": {},
   "outputs": [
    {
     "data": {
      "text/plain": [
       "'Middlesex'"
      ]
     },
     "execution_count": 40,
     "metadata": {},
     "output_type": "execute_result"
    }
   ],
   "source": [
    "new_books = b.set_index(\"goodreads_book_id\")  \n",
    "new_books1 = b.set_index(\"book_id\")  \n",
    "new_books.loc[bt.groupby(\"goodreads_book_id\").agg(sum).sort_values(\"count\", ascending = False).iloc[0].name][\"original_title\"]\n",
    "# q6"
   ]
  },
  {
   "cell_type": "code",
   "execution_count": 49,
   "id": "f08f1557",
   "metadata": {},
   "outputs": [
    {
     "data": {
      "text/plain": [
       "'Middlesex'"
      ]
     },
     "execution_count": 49,
     "metadata": {},
     "output_type": "execute_result"
    }
   ],
   "source": [
    "new_books1.loc[tr.groupby(\"book_id\").agg(\"count\").sort_values(\"user_id\", ascending = False).iloc[0].name][\"original_title\"]  \n",
    "# q7"
   ]
  },
  {
   "cell_type": "code",
   "execution_count": null,
   "id": "883b52b0",
   "metadata": {},
   "outputs": [],
   "source": [
    "#24 q8 used excel"
   ]
  },
  {
   "cell_type": "code",
   "execution_count": 55,
   "id": "50193e15",
   "metadata": {},
   "outputs": [],
   "source": [
    "def func(row):\n",
    "    some = row[\"ratings_1\"]+row[\"ratings_2\"]+row[\"ratings_3\"]+row[\"ratings_4\"]+row[\"ratings_5\"]\n",
    "    other = row[\"ratings_1\"]+2*row[\"ratings_2\"]+3*row[\"ratings_3\"]+4*row[\"ratings_4\"]+5*row[\"ratings_5\"]\n",
    "    return other/some\n",
    "def func2()"
   ]
  },
  {
   "cell_type": "code",
   "execution_count": 61,
   "id": "f827880f",
   "metadata": {},
   "outputs": [],
   "source": [
    "b[\"avg_ratings\"] = b.apply(lambda row: func(row), axis = 1)\n",
    "# b[\"avg_ratings\"]"
   ]
  },
  {
   "cell_type": "code",
   "execution_count": 63,
   "id": "1d648bfd",
   "metadata": {},
   "outputs": [
    {
     "data": {
      "text/plain": [
       "'Four Blondes'"
      ]
     },
     "execution_count": 63,
     "metadata": {},
     "output_type": "execute_result"
    }
   ],
   "source": [
    "b.iloc[b.avg_ratings.idxmin()][\"original_title\"]   #q9 "
   ]
  },
  {
   "cell_type": "code",
   "execution_count": 64,
   "id": "bafe787f",
   "metadata": {},
   "outputs": [],
   "source": [
    "#The Post-American World 2.0 q10"
   ]
  },
  {
   "cell_type": "code",
   "execution_count": 70,
   "id": "f6267577",
   "metadata": {},
   "outputs": [
    {
     "data": {
      "text/plain": [
       "4153"
      ]
     },
     "execution_count": 70,
     "metadata": {},
     "output_type": "execute_result"
    }
   ],
   "source": [
    "len(bt.tag_id.unique())   #q11"
   ]
  },
  {
   "cell_type": "code",
   "execution_count": 73,
   "id": "2990f8a7",
   "metadata": {},
   "outputs": [
    {
     "data": {
      "text/plain": [
       "3.89198885175693"
      ]
     },
     "execution_count": 73,
     "metadata": {},
     "output_type": "execute_result"
    }
   ],
   "source": [
    "b.avg_ratings.mean() #q12"
   ]
  },
  {
   "cell_type": "code",
   "execution_count": 74,
   "id": "d45594cd",
   "metadata": {},
   "outputs": [
    {
     "data": {
      "text/plain": [
       "39"
      ]
     },
     "execution_count": 74,
     "metadata": {},
     "output_type": "execute_result"
    }
   ],
   "source": [
    "sum(b.original_publication_year == 2000) #q13"
   ]
  },
  {
   "cell_type": "code",
   "execution_count": null,
   "id": "fa13bf07",
   "metadata": {},
   "outputs": [],
   "source": []
  }
 ],
 "metadata": {
  "kernelspec": {
   "display_name": "Python 3",
   "language": "python",
   "name": "python3"
  },
  "language_info": {
   "codemirror_mode": {
    "name": "ipython",
    "version": 3
   },
   "file_extension": ".py",
   "mimetype": "text/x-python",
   "name": "python",
   "nbconvert_exporter": "python",
   "pygments_lexer": "ipython3",
   "version": "3.8.8"
  }
 },
 "nbformat": 4,
 "nbformat_minor": 5
}
